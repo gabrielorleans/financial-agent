{
 "cells": [
  {
   "cell_type": "code",
   "execution_count": 1,
   "metadata": {},
   "outputs": [],
   "source": [
    "%%capture --no-stderr\n",
    "%pip install -U langgraph langgraph-supervisor langchain-tavily \"langchain[openai]\""
   ]
  },
  {
   "cell_type": "code",
   "execution_count": 2,
   "metadata": {},
   "outputs": [],
   "source": [
    "import getpass\n",
    "import os\n",
    "\n",
    "def _set_if_undefined(var: str):\n",
    "    if not os.environ.get(var):\n",
    "        os.environ[var] = getpass.getpass(f\"Please provide your {var}\")\n",
    "\n",
    "_set_if_undefined(\"OPENAI_API_KEY\")"
   ]
  },
  {
   "cell_type": "code",
   "execution_count": 46,
   "metadata": {},
   "outputs": [],
   "source": [
    "_set_if_undefined(\"LANGSMITH_API_KEY\")\n",
    "os.environ[\"LANGSMITH_TRACING\"] = \"true\"\n",
    "os.environ[\"LANGSMITH_PROJECT\"] = \"financial_agents\""
   ]
  },
  {
   "cell_type": "code",
   "execution_count": 8,
   "metadata": {},
   "outputs": [],
   "source": [
    "from langchain_core.messages import convert_to_messages\n",
    "from langgraph.prebuilt import create_react_agent\n",
    "import matplotlib.pyplot as plt\n",
    "import pandas as pd"
   ]
  },
  {
   "cell_type": "code",
   "execution_count": 4,
   "metadata": {},
   "outputs": [],
   "source": [
    "\n",
    "def pretty_print_message(message, indent=False):\n",
    "    pretty_message = message.pretty_repr(html=True)\n",
    "    if not indent:\n",
    "        print(pretty_message)\n",
    "        return\n",
    "\n",
    "    indented = \"\\n\".join(\"\\t\" + c for c in pretty_message.split(\"\\n\"))\n",
    "    print(indented)\n",
    "\n",
    "def pretty_print_messages(update, last_message=False):\n",
    "    is_subgraph = False\n",
    "    if isinstance(update, tuple):\n",
    "        ns, update = update\n",
    "        # skip parent graph updates in the printouts\n",
    "        if len(ns) == 0:\n",
    "            return\n",
    "\n",
    "        graph_id = ns[-1].split(\":\")[0]\n",
    "        print(f\"Update from subgraph {graph_id}:\")\n",
    "        print(\"\\n\")\n",
    "        is_subgraph = True\n",
    "\n",
    "    for node_name, node_update in update.items():\n",
    "        update_label = f\"Update from node {node_name}:\"\n",
    "        if is_subgraph:\n",
    "            update_label = \"\\t\" + update_label\n",
    "\n",
    "        print(update_label)\n",
    "        print(\"\\n\")\n",
    "\n",
    "        messages = convert_to_messages(node_update[\"messages\"])\n",
    "        if last_message:\n",
    "            messages = messages[-1:]\n",
    "\n",
    "        for m in messages:\n",
    "            pretty_print_message(m, indent=is_subgraph)\n",
    "        print(\"\\n\")"
   ]
  },
  {
   "cell_type": "code",
   "execution_count": 35,
   "metadata": {},
   "outputs": [],
   "source": [
    "def plot_bar_chart(filepath: str, category_col: str, value_col: str):\n",
    "    \"\"\"Create a bar chart comparing values across categories.\"\"\"\n",
    "    df = pd.read_csv(filepath)\n",
    "    df.plot(kind='bar', x=category_col, y=value_col, legend=False)\n",
    "    plt.xlabel(category_col)\n",
    "    plt.ylabel(value_col)\n",
    "    plt.title(f\"{value_col} by {category_col}\")\n",
    "    plt.tight_layout()\n",
    "    plt.show()\n",
    "\n",
    "def plot_line_chart(filepath: str, x_col: str, y_col: str):\n",
    "    \"\"\"Create a line chart to visualize a trend over time.\"\"\"\n",
    "    df = pd.read_csv(filepath)\n",
    "    df.plot(kind='line', x=x_col, y=y_col, marker='o')\n",
    "\n",
    "    plt.xlabel(x_col)\n",
    "    plt.ylabel(y_col)\n",
    "    plt.title(f\"{y_col} over {x_col}\")\n",
    "    plt.tight_layout()\n",
    "    plt.show()\n",
    "\n",
    "def plot_histogram(filepath: str, column: str, bins: int = 10):\n",
    "    \"\"\"Create a histogram to show the distribution of a numerical variable.\"\"\"\n",
    "    df = pd.read_csv(filepath)\n",
    "    plt.hist(df[column], bins=bins, edgecolor='black')\n",
    "    plt.xlabel(column)\n",
    "    plt.ylabel(\"Frequency\")\n",
    "    plt.title(f\"Distribution of {column}\")\n",
    "    plt.tight_layout()\n",
    "    plt.show()\n",
    "\n",
    "def plot_scatter_plot(filepath: str, x_col: str, y_col: str):\n",
    "    \"\"\"Create a scatter plot to visualize correlation between two variables.\"\"\"\n",
    "    df = pd.read_csv(filepath)\n",
    "    plt.scatter(df[x_col], df[y_col])\n",
    "    plt.xlabel(x_col)\n",
    "    plt.ylabel(y_col)\n",
    "    plt.title(f\"{y_col} vs {x_col}\")\n",
    "    plt.tight_layout()\n",
    "    plt.show()\n",
    "\n",
    "def preview_csv_file(filepath: str, n: int = 5) -> str:\n",
    "    \"\"\"Preview the first n rows of a CSV file as a string.\"\"\"\n",
    "    df = pd.read_csv(filepath)\n",
    "    return df.head(n).to_string(index=False)\n",
    "\n",
    "def list_csv_files(directory: str = \"data\") -> list[str]:\n",
    "    \"\"\"List all CSV files in the given directory.\"\"\"\n",
    "    return [f for f in os.listdir(directory) if f.endswith(\".csv\")]\n",
    "\n",
    "def recommend_chart(filepath: str) -> str:\n",
    "    \"\"\"\n",
    "    Recommend a suitable chart type for a given CSV based on column types and structure.\n",
    "    Returns one of: line, bar, histogram, scatter\n",
    "    \"\"\"\n",
    "    df = pd.read_csv(filepath)\n",
    "    num_cols = df.select_dtypes(include=\"number\").columns.tolist()\n",
    "    cat_cols = df.select_dtypes(include=\"object\").columns.tolist()\n",
    "\n",
    "    if \"date\" in df.columns or any(\"date\" in col.lower() for col in df.columns):\n",
    "        return \"line chart\"\n",
    "    elif len(cat_cols) == 1 and len(num_cols) == 1:\n",
    "        return \"bar chart\"\n",
    "    elif len(num_cols) == 1:\n",
    "        return \"histogram chart\"\n",
    "    elif len(num_cols) >= 2:\n",
    "        return \"scatter chart\"\n",
    "    else:\n",
    "        return \"unknown\"\n",
    "\n",
    "charts_agent = create_react_agent(\n",
    "    model=\"openai:gpt-4.1\",\n",
    "    tools=[plot_bar_chart, plot_line_chart, plot_histogram,\n",
    "           plot_scatter_plot, preview_csv_file, list_csv_files, recommend_chart],\n",
    "    prompt=(\n",
    "    \"You are a data analyst agent.\\n\\n\"\n",
    "    \"INSTRUCTIONS:\\n\"\n",
    "    \"If instructions on which data to use is not provided, you should list all csv files in the data/ folder\\n\"\n",
    "    \"- Assist ONLY with data analysis tasks (e.g., previewing CSVs and mainly plotting charts)\\n\"\n",
    "    \"- Use the available tools to load and visualize data from the data folder\\n\"\n",
    "    \"- After you're done with your tasks, respond to the supervisor directly\\n\"\n",
    "    \"- Respond ONLY with the results of your work (e.g., charts, data summaries), do NOT include ANY other text.\"\n",
    "    ),\n",
    "    name=\"charts_agent\",\n",
    ")"
   ]
  },
  {
   "cell_type": "code",
   "execution_count": 36,
   "metadata": {},
   "outputs": [],
   "source": [
    "def dummy_tool(filepath: str) -> str:\n",
    "    \"\"\"Analyze the data context and comment on it.\"\"\"\n",
    "    df = pd.read_csv(filepath)\n",
    "    return df.to_string(index=False)\n",
    "\n",
    "dummy_agent = create_react_agent(\n",
    "    model=\"openai:gpt-4.1\",\n",
    "    tools=[dummy_tool],\n",
    "    prompt=(\n",
    "        \"You are a data commenting agent.\\n\\n\"\n",
    "        \"INSTRUCTIONS:\\n\"\n",
    "        \"- Your ONLY task is to review and comment on the contents of uploaded CSV files\\n\"\n",
    "        \"- Use the available tools to load and inspect the data from the 'data/' folder\\n\"\n",
    "        \"- Your comment should summarize the structure, contents, and any noticeable patterns in the dataset\\n\"\n",
    "        \"- DO NOT generate charts, perform calculations, or answer unrelated questions\\n\"\n",
    "        \"- Respond ONLY with your comment or insight—NO extra formatting, headers, or explanations\"\n",
    "    ),\n",
    "    name=\"dummy_agent\",\n",
    ")"
   ]
  },
  {
   "cell_type": "markdown",
   "metadata": {},
   "source": [
    "#### Langgraph workflow"
   ]
  },
  {
   "cell_type": "code",
   "execution_count": 37,
   "metadata": {},
   "outputs": [],
   "source": [
    "from langgraph_supervisor import create_supervisor\n",
    "from langchain.chat_models import init_chat_model\n",
    "\n",
    "supervisor = create_supervisor(\n",
    "    model=init_chat_model(\"openai:gpt-4.1\"),\n",
    "    agents=[charts_agent, dummy_agent],\n",
    "    prompt=(\n",
    "        \"You are a supervisor managing two agents:\\n\"\n",
    "        \"- a charts agent. Assign data analysis tasks to this agent\\n\"\n",
    "        \"- a dummy agent. Assign commenting tasks to this agent\\n\"\n",
    "        \"Assign work to one agent at a time, do not call agents in parallel.\\n\"\n",
    "        \"Do not do any work yourself.\"\n",
    "    ),\n",
    "    add_handoff_back_messages=True,\n",
    "    output_mode=\"full_history\",\n",
    ").compile()"
   ]
  },
  {
   "cell_type": "code",
   "execution_count": 38,
   "metadata": {},
   "outputs": [
    {
     "data": {
      "image/png": "[encoded data removed]",
      "text/plain": [
       "<IPython.core.display.Image object>"
      ]
     },
     "metadata": {},
     "output_type": "display_data"
    }
   ],
   "source": [
    "from IPython.display import display, Image\n",
    "\n",
    "display(Image(supervisor.get_graph().draw_mermaid_png()))"
   ]
  },
  {
   "cell_type": "markdown",
   "metadata": {},
   "source": [
    "#### Quick testing"
   ]
  },
  {
   "cell_type": "code",
   "execution_count": 44,
   "metadata": {},
   "outputs": [
    {
     "name": "stdout",
     "output_type": "stream",
     "text": [
      "Update from node supervisor:\n",
      "\n",
      "\n",
      "=================================\u001b[1m Tool Message \u001b[0m=================================\n",
      "Name: transfer_to_charts_agent\n",
      "\n",
      "Successfully transferred to charts_agent\n",
      "\n",
      "\n"
     ]
    },
    {
     "data": {
      "image/png": "[encoded data removed]",
      "text/plain": [
       "<Figure size 640x480 with 1 Axes>"
      ]
     },
     "metadata": {},
     "output_type": "display_data"
    },
    {
     "name": "stdout",
     "output_type": "stream",
     "text": [
      "Update from node charts_agent:\n",
      "\n",
      "\n",
      "=================================\u001b[1m Tool Message \u001b[0m=================================\n",
      "Name: transfer_back_to_supervisor\n",
      "\n",
      "Successfully transferred back to supervisor\n",
      "\n",
      "\n",
      "Update from node supervisor:\n",
      "\n",
      "\n",
      "==================================\u001b[1m Ai Message \u001b[0m==================================\n",
      "Name: supervisor\n",
      "\n",
      "The histogram chart for employee ages has been generated from data/employee_ages.csv. Would you like any further analysis or comments on this chart?\n",
      "\n",
      "\n"
     ]
    }
   ],
   "source": [
    "for chunk in supervisor.stream(\n",
    "    {\n",
    "        \"messages\": [\n",
    "            {\n",
    "                \"role\": \"user\",\n",
    "                \"content\": \"Create a line plot for data/monthly_financials.csv data\",\n",
    "                \"content\": \"Create a histogram chart for data/employee_ages.csv data\",\n",
    "\n",
    "            },\n",
    "        ]\n",
    "    },\n",
    "):\n",
    "    pretty_print_messages(chunk, last_message=True)\n",
    "\n",
    "final_message_history = chunk[\"supervisor\"][\"messages\"]"
   ]
  }
 ],
 "metadata": {
  "kernelspec": {
   "display_name": "Python 3",
   "language": "python",
   "name": "python3"
  },
  "language_info": {
   "codemirror_mode": {
    "name": "ipython",
    "version": 3
   },
   "file_extension": ".py",
   "mimetype": "text/x-python",
   "name": "python",
   "nbconvert_exporter": "python",
   "pygments_lexer": "ipython3",
   "version": "3.12.10"
  }
 },
 "nbformat": 4,
 "nbformat_minor": 2
}
