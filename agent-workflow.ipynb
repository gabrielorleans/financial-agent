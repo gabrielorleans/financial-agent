{
 "cells": [
  {
   "cell_type": "code",
   "execution_count": 1,
   "metadata": {},
   "outputs": [],
   "source": [
    "# %%capture --no-stderr\n",
    "# %pip install -U langgraph langgraph-supervisor langchain-tavily \"langchain[openai]\""
   ]
  },
  {
   "cell_type": "code",
   "execution_count": 1,
   "metadata": {},
   "outputs": [],
   "source": [
    "import getpass\n",
    "import os\n",
    "\n",
    "def _set_if_undefined(var: str):\n",
    "    if not os.environ.get(var):\n",
    "        os.environ[var] = getpass.getpass(f\"Please provide your {var}\")"
   ]
  },
  {
   "cell_type": "code",
   "execution_count": 2,
   "metadata": {},
   "outputs": [],
   "source": [
    "_set_if_undefined(\"OPENAI_API_KEY\")\n",
    "_set_if_undefined(\"LANGSMITH_API_KEY\")\n",
    "os.environ[\"LANGSMITH_TRACING\"] = \"true\"\n",
    "os.environ[\"LANGSMITH_PROJECT\"] = \"financial_agents\""
   ]
  },
  {
   "cell_type": "code",
   "execution_count": 3,
   "metadata": {},
   "outputs": [],
   "source": [
    "from langchain_core.messages import convert_to_messages\n",
    "from langgraph.prebuilt import create_react_agent\n",
    "import matplotlib.pyplot as plt\n",
    "import pandas as pd"
   ]
  },
  {
   "cell_type": "code",
   "execution_count": 4,
   "metadata": {},
   "outputs": [],
   "source": [
    "final_prompt = \"\"\" \n",
    "You are a world-class strategy consultant trained by Alvarez & Marsal. Act as if you have been hired\n",
    "to provide strategic market intelligence analysis for a client in the electric power transmission sector\n",
    "operating in Brazil. Companies to be analyzed: Taesa, ISA CTEEP, Eletrobras, Engie, Alupar\n",
    "\n",
    "Delivery format:\n",
    "• At the end of each table, provide objective comments and insights on trends, differences between companies, and strategic implications.\n",
    "• Structure the report as if you were pasting it directly into slides for a meeting with the board and C-level executives.\n",
    "• Use bold and arrows to highlight relevant rankings and variations.\n",
    "• Be succinct and prioritize clarity and comparability.\n",
    "Think like an Alvarez & Marsal partner presenting executive recommendations.\n",
    "• When data is missing or not indicated in the data, do not invent values. Just indicate this in the analysis.\n",
    "• For analyses involving regulations, carefully explain the concept used, whether it was IFRS, whether it is potential or achieved, etc.\n",
    "\"\"\"\n",
    "\n"
   ]
  },
  {
   "cell_type": "code",
   "execution_count": 5,
   "metadata": {},
   "outputs": [],
   "source": [
    "analyses = {\n",
    "    \"[MARKET] Analysis 1\": \"Identify the participation of the main players. List the line extension in kilometers, the share of the total national network in percentage, and the number of concessions currently in operation.\",\n",
    "    \"[MARKET] Analysis 2\": \"Calculate the market share in ANEEL 2024 auctions. Provide the number of lots awarded per company, the total investment in BRL billion, the average offered IRR compared to the ANEEL reference, and the percentage participation in the total auctioned volume.\",\n",
    "    \"[FINANCIAL PERFORMANCE] Analysis 3\": \"Report the regulated net revenue for the 12 months of 2024, the regulatory EBITDA for the same period, and the regulatory net income.\",\n",
    "    \"[FINANCIAL PERFORMANCE] Analysis 4\": \"Compare Market Cap and EBITDA. State the Market Cap in 4Q24 and present the comparison between real EBITDA and regulatory EBITDA, highlighting the absolute and percentage differences.\",\n",
    "    \"[CAPITAL STRUCTURE] Analysis 5\": \"Analyze leverage and returns. Calculate the Net Debt to Real EBITDA ratio for 4Q24, and report the Return on Assets (RoA), Return on Equity (RoE), and Return on Capital Employed (RoCe).\",\n",
    "    \"[EXPANSION AND PERFORMANCE] Analysis 6\": \"Assess investments and operational performance. Summarize the annual CapEx from 2022 to 2024 and indicate the percentage related to greenfield projects. List the main projects exceeding R$300 million, describe O&M costs and their drivers, report grid availability, PV/RAP ratio, PV events, and detail ANEEL penalties along with the number of failures per 1,000 km.\"\n",
    "}\n"
   ]
  },
  {
   "cell_type": "code",
   "execution_count": 6,
   "metadata": {},
   "outputs": [],
   "source": [
    "\n",
    "def pretty_print_message(message, indent=False):\n",
    "    pretty_message = message.pretty_repr(html=True)\n",
    "    if not indent:\n",
    "        print(pretty_message)\n",
    "        return\n",
    "\n",
    "    indented = \"\\n\".join(\"\\t\" + c for c in pretty_message.split(\"\\n\"))\n",
    "    print(indented)\n",
    "\n",
    "def pretty_print_messages(update, last_message=False):\n",
    "    is_subgraph = False\n",
    "    if isinstance(update, tuple):\n",
    "        ns, update = update\n",
    "        # skip parent graph updates in the printouts\n",
    "        if len(ns) == 0:\n",
    "            return\n",
    "\n",
    "        graph_id = ns[-1].split(\":\")[0]\n",
    "        print(f\"Update from subgraph {graph_id}:\")\n",
    "        print(\"\\n\")\n",
    "        is_subgraph = True\n",
    "\n",
    "    for node_name, node_update in update.items():\n",
    "        update_label = f\"Update from node {node_name}:\"\n",
    "        if is_subgraph:\n",
    "            update_label = \"\\t\" + update_label\n",
    "\n",
    "        print(update_label)\n",
    "        print(\"\\n\")\n",
    "\n",
    "        messages = convert_to_messages(node_update[\"messages\"])\n",
    "        if last_message:\n",
    "            messages = messages[-1:]\n",
    "\n",
    "        for m in messages:\n",
    "            pretty_print_message(m, indent=is_subgraph)\n",
    "        print(\"\\n\")"
   ]
  },
  {
   "cell_type": "code",
   "execution_count": 7,
   "metadata": {},
   "outputs": [],
   "source": [
    "def plot_bar_chart(data: dict, dtypes: dict, category_col: str, value_col: str):\n",
    "    \"\"\"Create a bar chart comparing values across categories.\"\"\"\n",
    "    df = pd.DataFrame.from_dict(data).astype(dtypes)\n",
    "    df.plot(kind='bar', x=category_col, y=value_col, legend=False)\n",
    "    plt.xlabel(category_col)\n",
    "    plt.ylabel(value_col)\n",
    "    plt.title(f\"{value_col} by {category_col}\")\n",
    "    plt.tight_layout()\n",
    "    plt.show()\n",
    "\n",
    "def plot_line_chart(data: dict, dtypes: dict, x_col: str, y_col: str):\n",
    "    \"\"\"Create a line chart to visualize a trend over time.\"\"\"\n",
    "    df = pd.DataFrame.from_dict(data).astype(dtypes)\n",
    "    df.plot(kind='line', x=x_col, y=y_col, marker='o')\n",
    "    plt.xlabel(x_col)\n",
    "    plt.ylabel(y_col)\n",
    "    plt.title(f\"{y_col} over {x_col}\")\n",
    "    plt.tight_layout()\n",
    "    plt.show()\n",
    "\n",
    "def plot_histogram(data: dict, dtypes: dict, column: str, bins: int = 10):\n",
    "    \"\"\"Create a histogram to show the distribution of a numerical variable.\"\"\"\n",
    "    df = pd.DataFrame.from_dict(data).astype(dtypes)\n",
    "    plt.hist(df[column], bins=bins, edgecolor='black')\n",
    "    plt.xlabel(column)\n",
    "    plt.ylabel(\"Frequency\")\n",
    "    plt.title(f\"Distribution of {column}\")\n",
    "    plt.tight_layout()\n",
    "    plt.show()\n",
    "\n",
    "def plot_scatter_plot(data: dict, dtypes: dict, x_col: str, y_col: str):\n",
    "    \"\"\"Create a scatter plot to visualize correlation between two variables.\"\"\"\n",
    "    df = pd.DataFrame.from_dict(data).astype(dtypes)\n",
    "    plt.scatter(df[x_col], df[y_col])\n",
    "    plt.xlabel(x_col)\n",
    "    plt.ylabel(y_col)\n",
    "    plt.title(f\"{y_col} vs {x_col}\")\n",
    "    plt.tight_layout()\n",
    "    plt.show()\n",
    "\n",
    "def recommend_chart(data: dict, dtypes: dict) -> str:\n",
    "    \"\"\"\n",
    "    Recommend a suitable chart type for a given dataset.\n",
    "    Returns one of: line chart, bar chart, histogram chart, scatter chart, unknown\n",
    "    \"\"\"\n",
    "    df = pd.DataFrame.from_dict(data).astype(dtypes)\n",
    "    num_cols = df.select_dtypes(include=\"number\").columns.tolist()\n",
    "    cat_cols = df.select_dtypes(include=\"object\").columns.tolist()\n",
    "\n",
    "    if \"date\" in df.columns or any(\"date\" in col.lower() for col in df.columns):\n",
    "        return \"line chart\"\n",
    "    elif len(cat_cols) == 1 and len(num_cols) == 1:\n",
    "        return \"bar chart\"\n",
    "    elif len(num_cols) == 1:\n",
    "        return \"histogram chart\"\n",
    "    elif len(num_cols) >= 2:\n",
    "        return \"scatter chart\"\n",
    "    else:\n",
    "        return \"unknown\"\n",
    "\n",
    "charts_agent = create_react_agent(\n",
    "    model=\"openai:gpt-4.1\",\n",
    "    tools=[plot_bar_chart, plot_line_chart, plot_histogram,\n",
    "           plot_scatter_plot, recommend_chart],\n",
    "    prompt=(\n",
    "       \"You are a data analyst agent. Your sole purpose is to create charts.\\n\\n\"\n",
    "    \"INSTRUCTIONS:\\n\"\n",
    "    \"- You will be given a complete request below that contains both instructions and data in JSON format.\\n\"\n",
    "    \"- Your specific job is to find the data visualization task within the request and perform ONLY that task.\\n\"\n",
    "    \"- Use your available tools to create the chart based on the data provided in the request.\\n\"\n",
    "    \"- Once the chart is created, your job is done. Do not perform any other analysis or summarization.\\n\\n\"\n",
    "    \"--- FULL REQUEST ---\\n\"\n",
    "    \"{input}\"\n",
    "    ),\n",
    "    name=\"charts_agent\",\n",
    ")"
   ]
  },
  {
   "cell_type": "code",
   "execution_count": 8,
   "metadata": {},
   "outputs": [],
   "source": [
    "from langchain_openai import ChatOpenAI\n",
    "from langgraph.prebuilt import create_react_agent\n",
    "from langchain.prompts import ChatPromptTemplate\n",
    "\n",
    "\n",
    "insights_prompt = ChatPromptTemplate.from_template(\n",
    "    \"\"\"\n",
    "    You are a financial insights agent. Your sole purpose is to generate insights from financial data.\n",
    "\n",
    "    INSTRUCTIONS:\n",
    "    - You will be given a complete request below that contains both instructions and data in JSON format.\n",
    "    - Your specific job is to carefully review the data and provide objective comments on trends, differences between companies, and strategic implications.\n",
    "    - Do not create charts or write company summaries. Focus only on generating insights.\n",
    "\n",
    "    --- FULL REQUEST ---\n",
    "    - Carefully review the data.\n",
    "    - Provide objective comments on trends, differences between companies, and strategic implications.\n",
    "    - Summarize key patterns in clear, concise sentences.\n",
    "    - Respond ONLY with your insights—no extra formatting or disclaimers.\n",
    "\n",
    "    DATA:\n",
    "    {input}\n",
    "    \"\"\"\n",
    "    )\n",
    "\n",
    "insights_agent = create_react_agent(\n",
    "    model=ChatOpenAI(model_name=\"gpt-4.1\", temperature=0.2),\n",
    "    tools=[],\n",
    "    prompt=insights_prompt,\n",
    "    name=\"insights_agent\",\n",
    ")\n"
   ]
  },
  {
   "cell_type": "code",
   "execution_count": 9,
   "metadata": {},
   "outputs": [],
   "source": [
    "import json \n",
    "\n",
    "def get_company_names(json_data: str) -> str:\n",
    "    \"\"\"\n",
    "    Returns a comma-separated list of unique company names\n",
    "    from a JSON string representing a list of records.\n",
    "    \"\"\"\n",
    "    # Parse the JSON string into a list of dicts\n",
    "    data_list = json.loads(json_data)\n",
    "    # Convert to DataFrame\n",
    "    df = pd.DataFrame(data_list)\n",
    "    # Get unique companies\n",
    "    companies = df[\"Company\"].dropna().unique().tolist()\n",
    "    return \", \".join(companies)\n",
    "\n",
    "summarizer_agent = create_react_agent(\n",
    "    model=\"openai:gpt-4.1\",\n",
    "    tools=[get_company_names],\n",
    "    prompt = (\n",
    "        \"You are a summarizer agent. Your sole purpose is to write company profiles.\\n\\n\"\n",
    "        \"INSTRUCTIONS:\\n\"\n",
    "        \"- You will be given a complete request below that contains both instructions and data in JSON format.\\n\"\n",
    "        \"- Your specific job is to find the company data and, for EACH company, write a detailed profile as requested.\\n\"\n",
    "        \"- Use your tools if necessary to extract company names first.\\n\"\n",
    "        \"- Do not create charts or generate financial insights.\\n\\n\"\n",
    "        \"- Then, for EACH company, write a detailed company profile, containing 3 paragraphs:\\n\"\n",
    "        \"1) Business lines and role.\\n\"\n",
    "        \"2) Key milestones and ownership.\\n\"\n",
    "        \"3) Reputation and recent news.\\n\\n\"\n",
    "        \"- Use smooth, informative sentences.\\n\"\n",
    "        \"- Do not include any financial figures.\\n\"\n",
    "        \"- Clearly separate the profiles with headings.\\n\\n\"\n",
    "        \"DATA:\\n\"\n",
    "        \"{input}\"\n",
    "    ),\n",
    "    name=\"summarizer_agent\",\n",
    ")"
   ]
  },
  {
   "cell_type": "code",
   "execution_count": 29,
   "metadata": {},
   "outputs": [
    {
     "data": {
      "text/plain": [
       "str"
      ]
     },
     "execution_count": 29,
     "metadata": {},
     "output_type": "execute_result"
    }
   ],
   "source": [
    "type(json_data)"
   ]
  },
  {
   "cell_type": "markdown",
   "metadata": {},
   "source": [
    "#### Langgraph workflow"
   ]
  },
  {
   "cell_type": "code",
   "execution_count": 10,
   "metadata": {},
   "outputs": [],
   "source": [
    "from langgraph_supervisor import create_supervisor\n",
    "from langchain.chat_models import init_chat_model\n",
    "\n",
    "supervisor = create_supervisor(\n",
    "    model=init_chat_model(\"openai:gpt-4.1\"),\n",
    "    agents=[\n",
    "        charts_agent,\n",
    "        insights_agent,\n",
    "        summarizer_agent\n",
    "    ],\n",
    "    prompt=(\n",
    "        \"You are a supervisor managing three specialized agents:\\n\\n\"\n",
    "        \"- A charts agent: for data visualization tasks.\\n\"\n",
    "        \"- An insights agent: for data interpretation and commentary.\\n\"\n",
    "        \"- A summarizer agent: for writing company profiles.\\n\\n\"\n",
    "        \"RULES:\\n\"\n",
    "        \"- When you receive input, do not ask clarifying questions.\\n\"\n",
    "        \"- Immediately decide which agent should handle the request.\\n\"\n",
    "        \"- Assign work to only one agent at a time.\\n\"\n",
    "        \"- Do not call multiple agents in parallel.\\n\"\n",
    "        \"- Do not do any analysis, visualization, or summarization yourself.\\n\\n\"\n",
    "        \"- If the input includes multiple tasks, handle them sequentially, one after another.\\n\"\n",
    "        \"- If the input includes data, pass the data to the agent as needed.\\n\\n\"\n",
    "        \"You will now receive input with instructions and data:\\n\"\n",
    "        \"{input}\"\n",
    "    ),\n",
    "    add_handoff_back_messages=True,\n",
    "    output_mode=\"full_history\",\n",
    ").compile()\n"
   ]
  },
  {
   "cell_type": "code",
   "execution_count": 11,
   "metadata": {},
   "outputs": [
    {
     "data": {
      "image/png": "[encoded data removed]",
      "text/plain": [
       "<IPython.core.display.Image object>"
      ]
     },
     "metadata": {},
     "output_type": "display_data"
    }
   ],
   "source": [
    "from IPython.display import display, Image\n",
    "\n",
    "display(Image(supervisor.get_graph().draw_mermaid_png()))"
   ]
  },
  {
   "cell_type": "markdown",
   "metadata": {},
   "source": [
    "### Melhoria de pipeline\n",
    "\n",
    "Leitura dos PDFs de releases financeiros. "
   ]
  },
  {
   "cell_type": "code",
   "execution_count": 12,
   "metadata": {},
   "outputs": [],
   "source": [
    "from langchain_core.messages import SystemMessage, HumanMessage\n",
    "from langchain_openai import ChatOpenAI\n",
    "import pymupdf4llm\n",
    "\n",
    "def report_analyzer(path):\n",
    "    print(\"ANALYZE PDF RELEASE\")\n",
    "\n",
    "    # Converte o PDF em Markdown\n",
    "    md_text = pymupdf4llm.to_markdown(path)\n",
    "\n",
    "    # Aqui definimos a pergunta fictícia\n",
    "    question = \"Summarize the main financial highlights of this release in bullet points.\"\n",
    "\n",
    "    # Prompt de sistema (pode customizar)\n",
    "    system_prompt = (\n",
    "        \"You are a financial analyst AI. \"\n",
    "        \"Answer the user's question based on the provided document content.\"\n",
    "    )\n",
    "\n",
    "    # Mensagens que vão para o modelo\n",
    "    messages = [\n",
    "        SystemMessage(content=system_prompt),\n",
    "        HumanMessage(content=f\"{md_text}\\n\\nQuestion: {question}\")\n",
    "    ]\n",
    "\n",
    "    # Invoca o modelo\n",
    "    model = ChatOpenAI(model=\"gpt-4o\")\n",
    "    response = model.invoke(messages, temperature=0.1)\n",
    "\n",
    "    print(\"Model response:\")\n",
    "    print(response.content)\n",
    "\n",
    "    # Retorna o resultado em dict\n",
    "    return {\n",
    "        \"analyses\": [response.content]\n",
    "    }\n"
   ]
  },
  {
   "cell_type": "code",
   "execution_count": null,
   "metadata": {},
   "outputs": [
    {
     "name": "stdout",
     "output_type": "stream",
     "text": [
      "ANALYZE PDF RELEASE\n",
      "Model response:\n",
      "- **Lucro Líquido:** R$ 810,1 milhões, uma redução de 10,0% em relação ao 4T23.\n",
      "- **Dívida Líquida:** R$ 10.229,8 milhões, um aumento de 29,4% em comparação ao final de 2023.\n",
      "- **EBITDA:** R$ 794,3 milhões, uma diminuição de 3,9% em relação ao 4T23.\n",
      "- **CapEx:** R$ 1.291,3 milhões, um aumento significativo de 75,8% em relação ao ano anterior.\n",
      "- **Receita Líquida:** R$ 1.156,6 milhões no 4T24, um aumento de 4,2% em relação ao 4T23.\n",
      "- **PMSO:** R$ 230,0 milhões, um aumento de 2,9% em relação ao 4T23.\n",
      "- **Margem EBITDA:** 68,7%, uma redução de 5,8 pontos percentuais em relação ao 4T23.\n",
      "- **ROE (Retorno sobre o Patrimônio Líquido):** 20,9%, uma redução de 4,9 pontos percentuais em relação ao ano anterior.\n",
      "- **Investimentos em Reforços e Melhorias:** R$ 1.371,4 milhões em 2024, um aumento de 12,4% em relação a 2023.\n",
      "- **Investimentos em Projetos Greenfield:** R$ 2.263,2 milhões em 2024, um aumento de 167,3% em relação a 2023.\n"
     ]
    },
    {
     "data": {
      "text/plain": [
       "{'analyses': ['- **Lucro Líquido:** R$ 810,1 milhões, uma redução de 10,0% em relação ao 4T23.\\n- **Dívida Líquida:** R$ 10.229,8 milhões, um aumento de 29,4% em comparação ao final de 2023.\\n- **EBITDA:** R$ 794,3 milhões, uma diminuição de 3,9% em relação ao 4T23.\\n- **CapEx:** R$ 1.291,3 milhões, um aumento significativo de 75,8% em relação ao ano anterior.\\n- **Receita Líquida:** R$ 1.156,6 milhões no 4T24, um aumento de 4,2% em relação ao 4T23.\\n- **PMSO:** R$ 230,0 milhões, um aumento de 2,9% em relação ao 4T23.\\n- **Margem EBITDA:** 68,7%, uma redução de 5,8 pontos percentuais em relação ao 4T23.\\n- **ROE (Retorno sobre o Patrimônio Líquido):** 20,9%, uma redução de 4,9 pontos percentuais em relação ao ano anterior.\\n- **Investimentos em Reforços e Melhorias:** R$ 1.371,4 milhões em 2024, um aumento de 12,4% em relação a 2023.\\n- **Investimentos em Projetos Greenfield:** R$ 2.263,2 milhões em 2024, um aumento de 167,3% em relação a 2023.']}"
      ]
     },
     "execution_count": 13,
     "metadata": {},
     "output_type": "execute_result"
    }
   ],
   "source": [
    "report_analyzer(path = 'data/releases/isa-4T24.pdf')"
   ]
  },
  {
   "cell_type": "code",
   "execution_count": 14,
   "metadata": {},
   "outputs": [],
   "source": [
    "from langchain_core.messages import SystemMessage, HumanMessage\n",
    "from langchain_openai import ChatOpenAI\n",
    "import pymupdf4llm\n",
    "import os\n",
    "\n",
    "def analyze_all(folder_path=\"data/releases/\"):\n",
    "    print(\"ANALYZE MULTIPLE PDF RELEASES\")\n",
    "    combined_results = []\n",
    "\n",
    "    # Lista todos os PDFs na pasta\n",
    "    pdf_files = [f for f in os.listdir(folder_path) if f.endswith(\".pdf\")]\n",
    "\n",
    "    # Define o prompt filtrado acima\n",
    "    system_prompt = (\n",
    "        \"You are a financial data extraction AI. \"\n",
    "        \"Return only structured JSON with the requested raw numerical data, no commentary.\"\n",
    "    )\n",
    "\n",
    "    question = (\n",
    "        \"Extract only the raw numerical data from this document in a structured JSON format. \"\n",
    "        \"For any data point not explicitly found, return `NaN`. Ignore commentary, explanations, or analysis.\\n\\n\"\n",
    "        \"Collect the following data:\\n\\n\"\n",
    "        \"[FINANCIAL PERFORMANCE]\\n\"\n",
    "        \"• Net revenue for the 12 months of 2024.\\n\"\n",
    "        \"• EBITDA for the 12 months of 2024.\\n\"\n",
    "        \"• Net income for the 12 months of 2024.\\n\"\n",
    "        \"• Return on Equity (RoE) in 2024.\\n\"\n",
    "        \"• Net Debt as of December 31, 2024.\\n\"\n",
    "        \"• Total investments or CapEx in 2024.\\n\\n\"\n",
    "        \"Note: If any of these data points are missing in the document, output `NaN`.\"\n",
    "    )\n",
    "\n",
    "    # Processa cada PDF\n",
    "    for pdf_file in pdf_files:\n",
    "        print(f\"\\nProcessing {pdf_file}...\")\n",
    "        md_text = pymupdf4llm.to_markdown(os.path.join(folder_path, pdf_file))\n",
    "\n",
    "        messages = [\n",
    "            SystemMessage(content=system_prompt),\n",
    "            HumanMessage(content=f\"{md_text}\\n\\nQuestion: {question}\")\n",
    "        ]\n",
    "\n",
    "        model = ChatOpenAI(model=\"gpt-4o\")\n",
    "        response = model.invoke(messages, temperature=0.1)\n",
    "\n",
    "        print(\"Model response:\")\n",
    "        print(response.content)\n",
    "\n",
    "        combined_results.append({\n",
    "            \"file\": pdf_file,\n",
    "            \"data\": response.content\n",
    "        })\n",
    "\n",
    "    return combined_results"
   ]
  },
  {
   "cell_type": "code",
   "execution_count": 15,
   "metadata": {},
   "outputs": [
    {
     "name": "stdout",
     "output_type": "stream",
     "text": [
      "ANALYZE MULTIPLE PDF RELEASES\n",
      "\n",
      "Processing alupar-4T24.pdf...\n",
      "Model response:\n",
      "```json\n",
      "{\n",
      "  \"FINANCIAL_PERFORMANCE\": {\n",
      "    \"Net_revenue_2024\": 4002.1,\n",
      "    \"EBITDA_2024\": 3070.8,\n",
      "    \"Net_income_2024\": 1859.9,\n",
      "    \"Return_on_Equity_2024\": \"NaN\",\n",
      "    \"Net_Debt_2024\": 9138.8,\n",
      "    \"Total_investments_CapEx_2024\": 470.2\n",
      "  }\n",
      "}\n",
      "```\n",
      "\n",
      "Processing eletrobras-4T24.pdf...\n",
      "Model response:\n",
      "```json\n",
      "{\n",
      "  \"FINANCIAL_PERFORMANCE\": {\n",
      "    \"Net_revenue_12M24\": 40182,\n",
      "    \"EBITDA_12M24\": 26237,\n",
      "    \"Net_income_12M24\": 10381,\n",
      "    \"Return_on_Equity_2024\": 8.5,\n",
      "    \"Net_Debt_31_12_2024\": 37671,\n",
      "    \"Total_investments_2024\": 7709\n",
      "  }\n",
      "}\n",
      "```\n",
      "\n",
      "Processing engie-4T24.pdf...\n",
      "Model response:\n",
      "```json\n",
      "{\n",
      "  \"FINANCIAL_PERFORMANCE\": {\n",
      "    \"Net_revenue_12M_2024\": 11219,\n",
      "    \"EBITDA_12M_2024\": 8754,\n",
      "    \"Net_income_12M_2024\": 4303,\n",
      "    \"Return_on_Equity_2024\": \"NaN\",\n",
      "    \"Net_Debt_31_12_2024\": 20126,\n",
      "    \"Total_investments_CapEx_2024\": 9664\n",
      "  }\n",
      "}\n",
      "```\n",
      "\n",
      "Processing isa-4T24.pdf...\n",
      "Model response:\n",
      "```json\n",
      "{\n",
      "  \"FINANCIAL_PERFORMANCE\": {\n",
      "    \"Net_revenue_2024\": 4557.0,\n",
      "    \"EBITDA_2024\": 3541.0,\n",
      "    \"Net_income_2024\": 2076.6,\n",
      "    \"Return_on_Equity_2024\": 20.9,\n",
      "    \"Net_Debt_2024\": 10229.8,\n",
      "    \"Total_investments_CapEx_2024\": 2263.2\n",
      "  }\n",
      "}\n",
      "```\n",
      "\n",
      "Processing taesa-4T24.pdf...\n",
      "Model response:\n",
      "```json\n",
      "{\n",
      "  \"FINANCIAL_PERFORMANCE\": {\n",
      "    \"Net_revenue_2024\": 3718.1,\n",
      "    \"EBITDA_2024\": 1953.2,\n",
      "    \"Net_income_2024\": 1693.9,\n",
      "    \"Return_on_Equity_2024\": \"NaN\",\n",
      "    \"Net_Debt_2024\": 9057.5,\n",
      "    \"Total_investments_CapEx_2024\": 1035.4\n",
      "  }\n",
      "}\n",
      "```\n"
     ]
    }
   ],
   "source": [
    "results = analyze_all()"
   ]
  },
  {
   "cell_type": "code",
   "execution_count": 16,
   "metadata": {},
   "outputs": [],
   "source": [
    "import pandas as pd\n",
    "import json\n",
    "import re\n",
    "\n",
    "def convert_financial_data(records):\n",
    "    \"\"\"\n",
    "    Converte a lista de dicts com dados financeiros em um pandas DataFrame limpo.\n",
    "    \"\"\"\n",
    "    rows = []\n",
    "\n",
    "    for entry in records:\n",
    "        file_name = entry[\"file\"]\n",
    "        \n",
    "        # Remove marcações ```json e ```\n",
    "        clean_json = re.sub(r\"^```json\\n|```$\", \"\", entry[\"data\"].strip())\n",
    "        \n",
    "        # Parse JSON\n",
    "        data = json.loads(clean_json)\n",
    "        fin = data.get(\"FINANCIAL_PERFORMANCE\", {})\n",
    "        \n",
    "        # Normaliza nomes de campos\n",
    "        row = {\n",
    "            \"Company\": file_name.split('-')[0].strip().capitalize(),  # Extrai o nome da empresa do nome do arquivo\n",
    "            \"Net_revenue_2024\": (\n",
    "                fin.get(\"Net_revenue_12M24\") or\n",
    "                fin.get(\"Net_revenue_12M_2024\") or\n",
    "                fin.get(\"Net_revenue_2024\")\n",
    "            ),\n",
    "            \"EBITDA_2024\": (\n",
    "                fin.get(\"EBITDA_12M24\") or\n",
    "                fin.get(\"EBITDA_12M_2024\") or\n",
    "                fin.get(\"EBITDA_2024\")\n",
    "            ),\n",
    "            \"Net_income_2024\": (\n",
    "                fin.get(\"Net_income_12M24\") or\n",
    "                fin.get(\"Net_income_12M_2024\") or\n",
    "                fin.get(\"Net_income_2024\")\n",
    "            ),\n",
    "            \"Return_on_Equity_2024\": fin.get(\"Return_on_Equity_2024\"),\n",
    "            \"Net_Debt_2024\": (\n",
    "                fin.get(\"Net_Debt_31_12_2024\") or\n",
    "                fin.get(\"Net_Debt_2024\")\n",
    "            ),\n",
    "            \"Total_investments_CapEx_2024\": (\n",
    "                fin.get(\"Total_investments_2024\") or\n",
    "                fin.get(\"Total_investments_CapEx_2024\")\n",
    "            )\n",
    "        }\n",
    "        \n",
    "        rows.append(row)\n",
    "    \n",
    "    # Criar DataFrame\n",
    "    df = pd.DataFrame(rows)\n",
    "    \n",
    "    # Converter \"NaN\" string em valores nulos\n",
    "    df = df.replace(\"NaN\", pd.NA)\n",
    "    \n",
    "    # Converter colunas numéricas\n",
    "    numeric_cols = [\n",
    "        \"Net_revenue_2024\",\n",
    "        \"EBITDA_2024\",\n",
    "        \"Net_income_2024\",\n",
    "        \"Return_on_Equity_2024\",\n",
    "        \"Net_Debt_2024\",\n",
    "        \"Total_investments_CapEx_2024\"\n",
    "    ]\n",
    "    df[numeric_cols] = df[numeric_cols].apply(pd.to_numeric, errors=\"coerce\")\n",
    "    \n",
    "    return df\n",
    "\n",
    "\n",
    "\n",
    "df_results = convert_financial_data(results)"
   ]
  },
  {
   "cell_type": "code",
   "execution_count": 17,
   "metadata": {},
   "outputs": [
    {
     "data": {
      "text/html": [
       "<div>\n",
       "<style scoped>\n",
       "    .dataframe tbody tr th:only-of-type {\n",
       "        vertical-align: middle;\n",
       "    }\n",
       "\n",
       "    .dataframe tbody tr th {\n",
       "        vertical-align: top;\n",
       "    }\n",
       "\n",
       "    .dataframe thead th {\n",
       "        text-align: right;\n",
       "    }\n",
       "</style>\n",
       "<table border=\"1\" class=\"dataframe\">\n",
       "  <thead>\n",
       "    <tr style=\"text-align: right;\">\n",
       "      <th></th>\n",
       "      <th>Company</th>\n",
       "      <th>Net_revenue_2024</th>\n",
       "      <th>EBITDA_2024</th>\n",
       "      <th>Net_income_2024</th>\n",
       "      <th>Return_on_Equity_2024</th>\n",
       "      <th>Net_Debt_2024</th>\n",
       "      <th>Total_investments_CapEx_2024</th>\n",
       "    </tr>\n",
       "  </thead>\n",
       "  <tbody>\n",
       "    <tr>\n",
       "      <th>0</th>\n",
       "      <td>Alupar</td>\n",
       "      <td>4002.1</td>\n",
       "      <td>3070.8</td>\n",
       "      <td>1859.9</td>\n",
       "      <td>NaN</td>\n",
       "      <td>9138.8</td>\n",
       "      <td>470.2</td>\n",
       "    </tr>\n",
       "    <tr>\n",
       "      <th>1</th>\n",
       "      <td>Eletrobras</td>\n",
       "      <td>40182.0</td>\n",
       "      <td>26237.0</td>\n",
       "      <td>10381.0</td>\n",
       "      <td>8.5</td>\n",
       "      <td>37671.0</td>\n",
       "      <td>7709.0</td>\n",
       "    </tr>\n",
       "    <tr>\n",
       "      <th>2</th>\n",
       "      <td>Engie</td>\n",
       "      <td>11219.0</td>\n",
       "      <td>8754.0</td>\n",
       "      <td>4303.0</td>\n",
       "      <td>NaN</td>\n",
       "      <td>20126.0</td>\n",
       "      <td>9664.0</td>\n",
       "    </tr>\n",
       "    <tr>\n",
       "      <th>3</th>\n",
       "      <td>Isa</td>\n",
       "      <td>4557.0</td>\n",
       "      <td>3541.0</td>\n",
       "      <td>2076.6</td>\n",
       "      <td>20.9</td>\n",
       "      <td>10229.8</td>\n",
       "      <td>2263.2</td>\n",
       "    </tr>\n",
       "    <tr>\n",
       "      <th>4</th>\n",
       "      <td>Taesa</td>\n",
       "      <td>3718.1</td>\n",
       "      <td>1953.2</td>\n",
       "      <td>1693.9</td>\n",
       "      <td>NaN</td>\n",
       "      <td>9057.5</td>\n",
       "      <td>1035.4</td>\n",
       "    </tr>\n",
       "  </tbody>\n",
       "</table>\n",
       "</div>"
      ],
      "text/plain": [
       "      Company  Net_revenue_2024  EBITDA_2024  Net_income_2024  \\\n",
       "0      Alupar            4002.1       3070.8           1859.9   \n",
       "1  Eletrobras           40182.0      26237.0          10381.0   \n",
       "2       Engie           11219.0       8754.0           4303.0   \n",
       "3         Isa            4557.0       3541.0           2076.6   \n",
       "4       Taesa            3718.1       1953.2           1693.9   \n",
       "\n",
       "   Return_on_Equity_2024  Net_Debt_2024  Total_investments_CapEx_2024  \n",
       "0                    NaN         9138.8                         470.2  \n",
       "1                    8.5        37671.0                        7709.0  \n",
       "2                    NaN        20126.0                        9664.0  \n",
       "3                   20.9        10229.8                        2263.2  \n",
       "4                    NaN         9057.5                        1035.4  "
      ]
     },
     "execution_count": 17,
     "metadata": {},
     "output_type": "execute_result"
    }
   ],
   "source": [
    "df_results"
   ]
  },
  {
   "cell_type": "code",
   "execution_count": 18,
   "metadata": {},
   "outputs": [],
   "source": [
    "import json\n",
    "\n",
    "# Assuming df_results exists\n",
    "records = df_results.to_dict(orient=\"records\")\n",
    "json_data = json.dumps(records, indent=2)"
   ]
  },
  {
   "cell_type": "markdown",
   "metadata": {},
   "source": [
    "### Company Summaries"
   ]
  },
  {
   "cell_type": "code",
   "execution_count": 19,
   "metadata": {},
   "outputs": [
    {
     "name": "stderr",
     "output_type": "stream",
     "text": [
      "C:\\Users\\gorleans\\AppData\\Local\\Temp\\ipykernel_38756\\1459359920.py:20: LangChainDeprecationWarning: The class `LLMChain` was deprecated in LangChain 0.1.17 and will be removed in 1.0. Use :meth:`~RunnableSequence, e.g., `prompt | llm`` instead.\n",
      "  chain = LLMChain(llm=llm, prompt=prompt)\n"
     ]
    }
   ],
   "source": [
    "from langchain.chains import LLMChain\n",
    "from langchain.prompts import PromptTemplate\n",
    "\n",
    "# Initialize ChatGPT \n",
    "llm = ChatOpenAI(model=\"gpt-4.1-mini\", temperature=0)\n",
    "\n",
    "\n",
    "\n",
    "prompt = PromptTemplate(\n",
    "    input_variables=[\"company_name\"],\n",
    "    template = \"\"\"\n",
    "        Write a detailed company profile of {company_name}, an energy company in Brazil. \n",
    "        Provide 3 clear paragraphs: 1) business lines and role; \n",
    "        2) key milestones and ownership; \n",
    "        3) reputation and recent news. \n",
    "        Use smooth, informative sentences. No financial figures. \n",
    "    \"\"\"\n",
    "    )\n",
    "\n",
    "chain = LLMChain(llm=llm, prompt=prompt)"
   ]
  },
  {
   "cell_type": "code",
   "execution_count": 20,
   "metadata": {},
   "outputs": [
    {
     "name": "stderr",
     "output_type": "stream",
     "text": [
      "C:\\Users\\gorleans\\AppData\\Local\\Temp\\ipykernel_38756\\3527924352.py:9: LangChainDeprecationWarning: The method `Chain.run` was deprecated in langchain 0.1.0 and will be removed in 1.0. Use :meth:`~invoke` instead.\n",
      "  summary = chain.run({\"company_name\": content.strip()})\n"
     ]
    }
   ],
   "source": [
    "summaries = {}\n",
    "\n",
    "for idx, content in enumerate(df_results['Company']):\n",
    "    if not isinstance(content, str) or len(content.strip()) == 0:\n",
    "        summaries[idx] = \"⚠️ Conteúdo vazio ou não encontrado.\"\n",
    "        continue\n",
    "\n",
    "    try:\n",
    "        summary = chain.run({\"company_name\": content.strip()})\n",
    "        summaries[idx] = summary.strip()\n",
    "    except Exception as e:\n",
    "        summaries[idx] = f\"Erro ao resumir: {str(e)}\"\n"
   ]
  },
  {
   "cell_type": "code",
   "execution_count": 21,
   "metadata": {},
   "outputs": [
    {
     "data": {
      "text/plain": [
       "{0: 'Alupar is a prominent Brazilian energy company specializing in the generation and transmission of electric power. The company operates a diverse portfolio of hydroelectric, wind, and solar power plants, positioning itself as a key player in Brazil’s renewable energy sector. In addition to power generation, Alupar is heavily involved in the development and management of high-voltage transmission lines, which are critical for the efficient distribution of electricity across the country. Through its integrated approach, Alupar plays a vital role in supporting Brazil’s energy infrastructure and advancing the nation’s transition toward sustainable energy sources.\\n\\nSince its inception, Alupar has achieved several significant milestones that have shaped its growth and market presence. The company was established with a focus on expanding Brazil’s energy capacity and has steadily increased its operational assets through strategic acquisitions and project developments. Ownership of Alupar is characterized by a mix of institutional investors and private stakeholders, reflecting a stable governance structure that supports long-term investment in infrastructure. Over the years, Alupar has successfully completed numerous large-scale projects, including the commissioning of multiple hydroelectric plants and the expansion of its transmission network, reinforcing its position as a leader in the Brazilian energy sector.\\n\\nAlupar enjoys a strong reputation for reliability, innovation, and commitment to sustainability within the energy industry. The company is recognized for its adherence to environmental and social governance standards, ensuring that its operations contribute positively to local communities and ecosystems. Recently, Alupar has been featured in industry news for advancing new renewable energy projects and enhancing its transmission capabilities to meet growing demand. Its proactive approach to integrating clean energy solutions and maintaining operational excellence continues to garner positive attention from stakeholders and reinforces its status as a forward-thinking energy company in Brazil.',\n",
       " 1: 'Eletrobras, officially known as Centrais Elétricas Brasileiras S.A., is a leading energy company in Brazil, primarily engaged in the generation, transmission, and distribution of electric power. As the largest utility company in Latin America, Eletrobras plays a critical role in the country’s energy sector by operating a diverse portfolio of hydroelectric, thermoelectric, wind, and solar power plants. The company is instrumental in supporting Brazil’s energy matrix, focusing on sustainable and renewable energy sources to meet the growing demand for electricity while promoting environmental responsibility.\\n\\nFounded in the early 1960s, Eletrobras has achieved several key milestones that have shaped its development and influence in the energy industry. Initially established as a state-owned enterprise, it has undergone various phases of expansion and modernization, including the integration of regional power companies and the enhancement of its transmission network. Over the years, the Brazilian government has maintained a controlling stake in Eletrobras, reflecting its strategic importance to national energy security and infrastructure. The company’s evolution has been marked by efforts to increase efficiency, expand renewable energy capacity, and adapt to regulatory changes within Brazil’s dynamic energy market.\\n\\nEletrobras is widely recognized for its commitment to innovation and sustainability, earning a reputation as a cornerstone of Brazil’s energy transition. The company has been actively involved in initiatives aimed at reducing carbon emissions and promoting clean energy technologies. In recent news, Eletrobras has been at the center of discussions regarding privatization efforts and regulatory reforms intended to enhance competitiveness and attract investment in the sector. Despite challenges, the company continues to be a pivotal player in Brazil’s pursuit of a more resilient and environmentally friendly energy future.',\n",
       " 2: 'Engie is a prominent energy company operating in Brazil, primarily focused on the generation, distribution, and commercialization of electricity. The company plays a vital role in the country’s energy sector by developing and managing a diverse portfolio of renewable and conventional energy assets, including hydroelectric, wind, solar, and thermal power plants. Engie is committed to advancing sustainable energy solutions, supporting Brazil’s transition towards a low-carbon economy while ensuring reliable and efficient energy supply to its customers across various regions.\\n\\nSince its establishment in Brazil, Engie has achieved several key milestones that underscore its growth and influence in the energy market. The company has expanded its renewable energy capacity significantly, becoming one of the leading producers of clean energy in the country. Engie’s strategic acquisitions and partnerships have strengthened its presence and operational capabilities, enabling it to innovate and adapt to evolving energy demands. As part of the global Engie Group, the Brazilian subsidiary benefits from the expertise and resources of one of the world’s largest independent energy companies, which is majority-owned by institutional investors and public shareholders.\\n\\nEngie enjoys a strong reputation in Brazil for its commitment to sustainability, innovation, and corporate social responsibility. The company is recognized for its efforts to reduce environmental impact and promote social development through various community initiatives and investments in clean technology. Recently, Engie has been in the news for advancing new renewable projects and digital transformation initiatives aimed at enhancing energy efficiency and customer experience. These developments highlight Engie’s ongoing dedication to shaping the future of energy in Brazil while contributing positively to the country’s economic and environmental goals.',\n",
       " 3: 'Isa, officially known as ISA – Interconexión Eléctrica S.A., is a prominent energy company operating in Brazil, primarily focused on the transmission of electricity. The company plays a critical role in the country’s energy infrastructure by managing and operating high-voltage transmission lines that ensure the reliable delivery of electricity across vast regions. Beyond transmission, Isa is also involved in related activities such as telecommunications and infrastructure services, contributing to the stability and efficiency of Brazil’s power grid. Its operations are essential for supporting the growing energy demands of residential, commercial, and industrial consumers throughout the nation.\\n\\nThroughout its history, Isa has achieved several key milestones that have solidified its position as a leader in the Brazilian energy sector. The company has expanded its transmission network significantly, integrating advanced technologies to enhance grid reliability and capacity. Isa’s ownership structure includes a mix of private and institutional investors, with a strong emphasis on governance and sustainability practices. This blend of ownership has enabled Isa to maintain a strategic focus on long-term growth and innovation, while aligning with national energy policies and regulatory frameworks that promote clean and efficient energy transmission.\\n\\nIsa enjoys a strong reputation for operational excellence and commitment to environmental and social responsibility. The company is recognized for its proactive approach to maintaining grid stability and investing in sustainable infrastructure projects that support Brazil’s transition to cleaner energy sources. Recently, Isa has been featured in news highlighting its initiatives to modernize the transmission network and collaborate with government agencies on expanding renewable energy integration. These efforts underscore Isa’s dedication to fostering a resilient and sustainable energy future for Brazil, reinforcing its status as a trusted and forward-thinking energy partner.',\n",
       " 4: 'Taesa (Transmissora Aliança de Energia Elétrica S.A.) is a prominent energy company in Brazil specializing in the transmission of electric power. Its core business revolves around the development, operation, and maintenance of high-voltage transmission lines and substations, which are critical components of the country’s electrical infrastructure. By ensuring the reliable and efficient delivery of electricity across vast regions, Taesa plays a vital role in supporting Brazil’s energy distribution network and facilitating the integration of renewable energy sources into the grid.\\n\\nSince its establishment, Taesa has achieved several key milestones that have solidified its position as one of the leading transmission companies in Brazil. The company has expanded its portfolio through strategic acquisitions and successful participation in regulatory auctions, enabling it to operate an extensive network of transmission assets across multiple states. Taesa’s ownership structure includes a mix of institutional investors and strategic partners, reflecting a governance model that emphasizes transparency and long-term value creation. This solid foundation has allowed the company to maintain steady growth and adapt to the evolving demands of the Brazilian energy sector.\\n\\nTaesa is widely recognized for its commitment to operational excellence, sustainability, and social responsibility. The company has earned a reputation for maintaining high standards in safety and environmental management, which has contributed to its strong standing among industry peers and regulatory bodies. In recent news, Taesa has been actively involved in initiatives aimed at expanding Brazil’s transmission capacity to support the country’s energy transition goals, including investments in modernizing infrastructure and enhancing grid resilience. These efforts underscore Taesa’s dedication to fostering a sustainable energy future while meeting the increasing demand for reliable electricity across Brazil.'}"
      ]
     },
     "execution_count": 21,
     "metadata": {},
     "output_type": "execute_result"
    }
   ],
   "source": [
    "summaries"
   ]
  },
  {
   "cell_type": "markdown",
   "metadata": {},
   "source": [
    "### Plot charts based on results"
   ]
  },
  {
   "cell_type": "code",
   "execution_count": 22,
   "metadata": {},
   "outputs": [],
   "source": [
    "num_cols = df_results.select_dtypes('float64').columns.to_list()"
   ]
  },
  {
   "cell_type": "code",
   "execution_count": 23,
   "metadata": {},
   "outputs": [
    {
     "data": {
      "image/png": "[encoded data removed]",
      "text/plain": [
       "<Figure size 640x480 with 1 Axes>"
      ]
     },
     "metadata": {},
     "output_type": "display_data"
    },
    {
     "data": {
      "image/png": "[encoded data removed]",
      "text/plain": [
       "<Figure size 640x480 with 1 Axes>"
      ]
     },
     "metadata": {},
     "output_type": "display_data"
    },
    {
     "data": {
      "image/png": "[encoded data removed]",
      "text/plain": [
       "<Figure size 640x480 with 1 Axes>"
      ]
     },
     "metadata": {},
     "output_type": "display_data"
    },
    {
     "data": {
      "image/png": "[encoded data removed]",
      "text/plain": [
       "<Figure size 640x480 with 1 Axes>"
      ]
     },
     "metadata": {},
     "output_type": "display_data"
    },
    {
     "data": {
      "image/png": "[encoded data removed]",
      "text/plain": [
       "<Figure size 640x480 with 1 Axes>"
      ]
     },
     "metadata": {},
     "output_type": "display_data"
    },
    {
     "data": {
      "image/png": "[encoded data removed]",
      "text/plain": [
       "<Figure size 640x480 with 1 Axes>"
      ]
     },
     "metadata": {},
     "output_type": "display_data"
    }
   ],
   "source": [
    "for col in num_cols:\n",
    "\n",
    "    plot_bar_chart(\n",
    "        data=df_results.to_dict(orient=\"records\"),\n",
    "        dtypes={k: str(v) for k, v in df_results.dtypes.items()},\n",
    "        category_col=\"Company\",\n",
    "        value_col=col\n",
    "    )\n"
   ]
  },
  {
   "cell_type": "markdown",
   "metadata": {},
   "source": [
    "### Extract insights based on data"
   ]
  },
  {
   "cell_type": "code",
   "execution_count": 26,
   "metadata": {},
   "outputs": [],
   "source": [
    "# insights_agent.invoke({\"input\": json_data})"
   ]
  },
  {
   "cell_type": "code",
   "execution_count": 27,
   "metadata": {},
   "outputs": [
    {
     "name": "stdout",
     "output_type": "stream",
     "text": [
      "Here’s a comparative financial analysis of the five companies (Alupar, Eletrobras, Engie, Isa, Taesa) based on your 2024 data:\n",
      "\n",
      "---\n",
      "\n",
      "### **1. Revenue & Profitability**\n",
      "\n",
      "| Company    | Net Revenue (R$ mn) | EBITDA (R$ mn) | EBITDA Margin (%) | Net Income (R$ mn) | Net Margin (%) |\n",
      "|------------|---------------------|----------------|-------------------|--------------------|---------------|\n",
      "| **Alupar**     | 4,002.1             | 3,070.8        | 76.7              | 1,859.9            | 46.5          |\n",
      "| **Eletrobras** | 40,182.0            | 26,237.0       | 65.3              | 10,381.0           | 25.8          |\n",
      "| **Engie**      | 11,219.0            | 8,754.0        | 78.0              | 4,303.0            | 38.4          |\n",
      "| **Isa**        | 4,557.0             | 3,541.0        | 77.8              | 2,076.6            | 45.6          |\n",
      "| **Taesa**      | 3,718.1             | 1,953.2        | 52.5              | 1,693.9            | 45.6          |\n",
      "\n",
      "**Insights:**\n",
      "- **Engie** and **Isa** have the highest EBITDA margins (~78%), indicating strong operational efficiency.\n",
      "- **Alupar** and **Taesa** also show high net margins (~46%), suggesting effective cost control.\n",
      "- **Eletrobras** is the largest by revenue and profit, but with lower margins compared to peers.\n",
      "\n",
      "---\n",
      "\n",
      "### **2. Leverage (Net Debt) & Investment**\n",
      "\n",
      "| Company    | Net Debt (R$ mn) | Net Debt / EBITDA | CapEx (R$ mn) | CapEx / Revenue (%) |\n",
      "|------------|------------------|-------------------|---------------|---------------------|\n",
      "| **Alupar**     | 9,138.8           | 3.0               | 470.2         | 11.8                |\n",
      "| **Eletrobras** | 37,671.0          | 1.4               | 7,709.0       | 19.2                |\n",
      "| **Engie**      | 20,126.0          | 2.3               | 9,664.0       | 86.2                |\n",
      "| **Isa**        | 10,229.8          | 2.9               | 2,263.2       | 49.7                |\n",
      "| **Taesa**      | 9,057.5           | 4.6               | 1,035.4       | 27.9                |\n",
      "\n",
      "**Insights:**\n",
      "- **Eletrobras** has the lowest Net Debt/EBITDA ratio (1.4x), indicating a relatively conservative leverage position.\n",
      "- **Taesa** has the highest leverage (4.6x), which may warrant monitoring.\n",
      "- **Engie** and **Isa** are investing heavily relative to their revenues (CapEx/Revenue 86% and 50%, respectively), signaling aggressive expansion or modernization.\n",
      "\n",
      "---\n",
      "\n",
      "### **3. Return on Equity (ROE)**\n",
      "\n",
      "| Company    | ROE (%) |\n",
      "|------------|---------|\n",
      "| **Eletrobras** | 8.5     |\n",
      "| **Isa**        | 20.9    |\n",
      "| **Alupar**     | N/A     |\n",
      "| **Engie**      | N/A     |\n",
      "| **Taesa**      | N/A     |\n",
      "\n",
      "**Insights:**\n",
      "- **Isa** stands out with a very high ROE (20.9%), indicating strong returns for shareholders.\n",
      "- **Eletrobras**’s ROE is moderate (8.5%).\n",
      "\n",
      "---\n",
      "\n",
      "### **4. Key Takeaways**\n",
      "\n",
      "- **Eletrobras** is the market leader by size, with robust profitability and low leverage, but moderate ROE.\n",
      "- **Isa** combines high margins, strong ROE, and significant investment, making it a standout in efficiency and shareholder returns.\n",
      "- **Engie** is aggressively investing, with high margins and moderate leverage.\n",
      "- **Alupar** and **Taesa** are smaller but maintain high margins; Taesa’s leverage is notably high.\n",
      "\n",
      "---\n",
      "\n",
      "**Summary Table**\n",
      "\n",
      "| Company    | Revenue | EBITDA Margin | Net Margin | Net Debt/EBITDA | CapEx/Revenue | ROE   |\n",
      "|------------|---------|---------------|------------|-----------------|---------------|-------|\n",
      "| Alupar     | 4,002   | 76.7%         | 46.5%      | 3.0x            | 11.8%         | N/A   |\n",
      "| Eletrobras | 40,182  | 65.3%         | 25.8%      | 1.4x            | 19.2%         | 8.5%  |\n",
      "| Engie      | 11,219  | 78.0%         | 38.4%      | 2.3x            | 86.2%         | N/A   |\n",
      "| Isa        | 4,557   | 77.8%         | 45.6%      | 2.9x            | 49.7%         | 20.9% |\n",
      "| Taesa      | 3,718   | 52.5%         | 45.6%      | 4.6x            | 27.9%         | N/A   |\n",
      "\n",
      "---\n",
      "\n",
      "**If you need peer ranking, risk assessment, or investment highlights, let me know!**\n"
     ]
    }
   ],
   "source": [
    "# Make a ChatPromptTemplate\n",
    "prompt = ChatPromptTemplate.from_template(\"\"\"\n",
    "You are a financial insights agent.\n",
    "\n",
    "DATA:\n",
    "{input}\n",
    "\"\"\")\n",
    "\n",
    "# Create the chain\n",
    "chain = prompt | ChatOpenAI(model_name=\"gpt-4.1\", temperature=0.2)\n",
    "\n",
    "# Now you can invoke directly\n",
    "response = chain.invoke({\"input\": json_data})\n",
    "print(response.content)"
   ]
  },
  {
   "cell_type": "markdown",
   "metadata": {},
   "source": [
    "### Testes rápidos"
   ]
  },
  {
   "cell_type": "code",
   "execution_count": 30,
   "metadata": {},
   "outputs": [
    {
     "name": "stdout",
     "output_type": "stream",
     "text": [
      "{'messages': [HumanMessage(content='[\\n  {\\n    \"Company\": \"Alupar\",\\n    \"Net_revenue_2024\": 4002.1,\\n    \"EBITDA_2024\": 3070.8,\\n    \"Net_income_2024\": 1859.9,\\n    \"Return_on_Equity_2024\": NaN,\\n    \"Net_Debt_2024\": 9138.8,\\n    \"Total_investments_CapEx_2024\": 470.2\\n  },\\n  {\\n    \"Company\": \"Eletrobras\",\\n    \"Net_revenue_2024\": 40182.0,\\n    \"EBITDA_2024\": 26237.0,\\n    \"Net_income_2024\": 10381.0,\\n    \"Return_on_Equity_2024\": 8.5,\\n    \"Net_Debt_2024\": 37671.0,\\n    \"Total_investments_CapEx_2024\": 7709.0\\n  },\\n  {\\n    \"Company\": \"Engie\",\\n    \"Net_revenue_2024\": 11219.0,\\n    \"EBITDA_2024\": 8754.0,\\n    \"Net_income_2024\": 4303.0,\\n    \"Return_on_Equity_2024\": NaN,\\n    \"Net_Debt_2024\": 20126.0,\\n    \"Total_investments_CapEx_2024\": 9664.0\\n  },\\n  {\\n    \"Company\": \"Isa\",\\n    \"Net_revenue_2024\": 4557.0,\\n    \"EBITDA_2024\": 3541.0,\\n    \"Net_income_2024\": 2076.6,\\n    \"Return_on_Equity_2024\": 20.9,\\n    \"Net_Debt_2024\": 10229.8,\\n    \"Total_investments_CapEx_2024\": 2263.2\\n  },\\n  {\\n    \"Company\": \"Taesa\",\\n    \"Net_revenue_2024\": 3718.1,\\n    \"EBITDA_2024\": 1953.2,\\n    \"Net_income_2024\": 1693.9,\\n    \"Return_on_Equity_2024\": NaN,\\n    \"Net_Debt_2024\": 9057.5,\\n    \"Total_investments_CapEx_2024\": 1035.4\\n  }\\n]', additional_kwargs={}, response_metadata={}, id='4cbc8ab8-9b99-4987-946c-fea4f7c97baa'), AIMessage(content=\"## Alupar\\n\\nAlupar is a prominent player in the electricity sector, specializing in the activities of power generation and transmission. The company operates an extensive portfolio of assets encompassing hydroelectric, wind, and transmission lines across different regions. By focusing on both the development and operation of renewable energy projects and critical infrastructure, Alupar plays a strategic role in supporting and expanding the reliability and reach of Brazil's energy grid.\\n\\nFounded in 2005, Alupar has experienced significant growth, marked by the acquisition and operation of numerous transmission concessions and power generation units. With a diversified asset base and a clear expansion strategy, the company has positioned itself as one of the leading private energy sector groups in Brazil. Alupar is listed on B3 (the Brazilian Stock Exchange), which has influenced its governance and transparency standards, and it maintains a mix of public and private shareholders.\\n\\nAlupar enjoys a solid reputation in the energy industry, recognized for its operational efficiency and commitment to sustainability. In recent news, the company has announced new investments in renewable energy projects and expanded its transmission network, reflecting a continued focus on innovation and adaptation to Brazil's evolving energy market. Stakeholders often note Alupar’s consistent performance and adherence to environmental and regulatory standards in its operations.\\n\\n## Eletrobras\\n\\nEletrobras stands as the largest power utility in Latin America, predominantly engaged in the generation and transmission of electric power. Its operations span a broad swath of the Brazilian territory and play a crucial role in the country’s national grid stability. The company manages an array of large-scale hydroelectric plants, thermoelectric stations, and an extensive network of transmission lines, thus fulfilling a critical role in Brazil’s electrical infrastructure.\\n\\nSince its inception in 1962, Eletrobras has achieved numerous key milestones, including leading Brazil’s rural electrification and grid expansion efforts. The company underwent a significant transformation in recent years with its privatization in 2022, transitioning from a fully state-owned entity to a mixed-capital company. This move altered its governance structure and broadened its shareholder base, increasing participation from private investors while the Brazilian government remains a significant stakeholder.\\n\\nEletrobras carries a reputation for reliability and technical leadership in the energy sector. The company has recently made headlines for its ambitious decarbonization initiatives, seeking to increase renewable generation capacity and improve efficiency across operations. Its transition to a more market-driven governance model has been met with both optimism and scrutiny, as stakeholders closely watch its ability to maintain stability while driving for innovation and competitiveness.\\n\\n## Engie\\n\\nEngie Brasil, a subsidiary of the global Engie Group, is a leading energy company focused on generating, commercializing, and transmitting electric power, with a strong emphasis on renewable resources. Its asset base is primarily composed of hydroelectric, wind, and solar facilities, and it also invests in innovative energy solutions, such as distributed generation and energy storage projects.\\n\\nThe company’s presence in Brazil dates back to the late 1990s, consistently expanding through strategic acquisitions and greenfield developments. As a subsidiary of the multinational Engie Group, Engie Brasil benefits from both local expertise and the backing of a global energy leader. Its Brazilian operations are marked by progressive milestones, such as the divestment of coal assets and leadership in the renewable transformation within the country.\\n\\nEngie is widely respected for its leadership in sustainability and corporate responsibility, enjoying a positive reputation among customers, investors, and industry peers. Recently, Engie has received attention for its major investments in wind and solar expansions, as well as for digital initiatives aimed at optimizing energy distribution. The company is often cited as a benchmark for environmental stewardship and innovation in the Brazilian energy market.\\n\\n## Isa\\n\\nISA CTEEP (Companhia de Transmissão de Energia Elétrica Paulista), under the control of the Colombian group Interconexión Eléctrica S.A. (ISA), is one of Brazil’s key electricity transmission companies. It manages an extensive network of transmission lines and substations, supporting the flow of electricity across several states and contributing significantly to the national grid’s reliability.\\n\\nISA CTEEP has a history that dates back to the early 2000s, when it was created from the restructuring of São Paulo’s utility sector. The company became part of the ISA group following privatization, and since then, has expanded its network through the acquisition of new assets and investments in advanced technology infrastructure. It is publicly traded on the B3 stock exchange and remains a core asset within ISA’s South American portfolio.\\n\\nThe company enjoys a strong reputation for operational excellence and technical innovation in transmission services. Recent news about ISA CTEEP has highlighted its ongoing investments in expanding Brazil's transmission capacity and in green infrastructure. The company is often commended for its commitment to reliability, network modernization, and active role in supporting Brazil's energy transition.\\n\\n## Taesa\\n\\nTaesa, or Transmissora Aliança de Energia Elétrica S.A., is one of Brazil’s largest private electricity transmission companies. Its principal business is the ownership, operation, and maintenance of transmission lines across several Brazilian states. Taesa plays a critical role in the country’s energy sector, ensuring the safe and efficient transport of electricity from generation sites to distribution networks and consumers.\\n\\nThe company was created in 2006 through the merger of multiple concessionaires and is characterized by a robust growth trajectory, both organically and through acquisitions. Taesa's ownership structure features the participation of major stakeholders, including the state-owned CEMIG and private investors, reflecting a blend of public and private interests. The company is listed on the São Paulo Stock Exchange, which encourages high standards of governance and investor relations.\\n\\nTaesa is recognized for its operational stability and focus on long-term infrastructure development. Recent developments include new investments in expanding its transmission network, as well as participation in industry auctions for new transmission projects. The company’s reliable performance, prudent management, and commitment to sustainability have reinforced its reputation as a dependable and forward-thinking force in Brazil’s energy sector.\", additional_kwargs={'refusal': None}, response_metadata={'token_usage': {'completion_tokens': 1202, 'prompt_tokens': 741, 'total_tokens': 1943, 'completion_tokens_details': {'accepted_prediction_tokens': 0, 'audio_tokens': 0, 'reasoning_tokens': 0, 'rejected_prediction_tokens': 0}, 'prompt_tokens_details': {'audio_tokens': 0, 'cached_tokens': 0}}, 'model_name': 'gpt-4.1-2025-04-14', 'system_fingerprint': 'fp_b3f1157249', 'id': 'chatcmpl-BrFRwChAQTNtrUYJnk8eJ7GIxTKKx', 'service_tier': 'default', 'finish_reason': 'stop', 'logprobs': None}, name='summarizer_agent', id='run--4fd5b2db-b051-40a3-9e2b-db2aa4033d5c-0', usage_metadata={'input_tokens': 741, 'output_tokens': 1202, 'total_tokens': 1943, 'input_token_details': {'audio': 0, 'cache_read': 0}, 'output_token_details': {'audio': 0, 'reasoning': 0}})]}\n"
     ]
    }
   ],
   "source": [
    "result = summarizer_agent.invoke({\n",
    "    \"messages\": [\n",
    "        {\n",
    "            \"role\": \"user\",\n",
    "            \"content\": json_data\n",
    "        }\n",
    "    ]\n",
    "})\n",
    "\n",
    "\n"
   ]
  },
  {
   "cell_type": "code",
   "execution_count": 36,
   "metadata": {},
   "outputs": [
    {
     "name": "stdout",
     "output_type": "stream",
     "text": [
      "\n",
      "========== FINAL OUTPUT ==========\n",
      "\n",
      "## Alupar\n",
      "\n",
      "Alupar is a prominent player in the electricity sector, specializing in the activities of power generation and transmission. The company operates an extensive portfolio of assets encompassing hydroelectric, wind, and transmission lines across different regions. By focusing on both the development and operation of renewable energy projects and critical infrastructure, Alupar plays a strategic role in supporting and expanding the reliability and reach of Brazil's energy grid.\n",
      "\n",
      "Founded in 2005, Alupar has experienced significant growth, marked by the acquisition and operation of numerous transmission concessions and power generation units. With a diversified asset base and a clear expansion strategy, the company has positioned itself as one of the leading private energy sector groups in Brazil. Alupar is listed on B3 (the Brazilian Stock Exchange), which has influenced its governance and transparency standards, and it maintains a mix of public and private shareholders.\n",
      "\n",
      "Alupar enjoys a solid reputation in the energy industry, recognized for its operational efficiency and commitment to sustainability. In recent news, the company has announced new investments in renewable energy projects and expanded its transmission network, reflecting a continued focus on innovation and adaptation to Brazil's evolving energy market. Stakeholders often note Alupar’s consistent performance and adherence to environmental and regulatory standards in its operations.\n",
      "\n",
      "## Eletrobras\n",
      "\n",
      "Eletrobras stands as the largest power utility in Latin America, predominantly engaged in the generation and transmission of electric power. Its operations span a broad swath of the Brazilian territory and play a crucial role in the country’s national grid stability. The company manages an array of large-scale hydroelectric plants, thermoelectric stations, and an extensive network of transmission lines, thus fulfilling a critical role in Brazil’s electrical infrastructure.\n",
      "\n",
      "Since its inception in 1962, Eletrobras has achieved numerous key milestones, including leading Brazil’s rural electrification and grid expansion efforts. The company underwent a significant transformation in recent years with its privatization in 2022, transitioning from a fully state-owned entity to a mixed-capital company. This move altered its governance structure and broadened its shareholder base, increasing participation from private investors while the Brazilian government remains a significant stakeholder.\n",
      "\n",
      "Eletrobras carries a reputation for reliability and technical leadership in the energy sector. The company has recently made headlines for its ambitious decarbonization initiatives, seeking to increase renewable generation capacity and improve efficiency across operations. Its transition to a more market-driven governance model has been met with both optimism and scrutiny, as stakeholders closely watch its ability to maintain stability while driving for innovation and competitiveness.\n",
      "\n",
      "## Engie\n",
      "\n",
      "Engie Brasil, a subsidiary of the global Engie Group, is a leading energy company focused on generating, commercializing, and transmitting electric power, with a strong emphasis on renewable resources. Its asset base is primarily composed of hydroelectric, wind, and solar facilities, and it also invests in innovative energy solutions, such as distributed generation and energy storage projects.\n",
      "\n",
      "The company’s presence in Brazil dates back to the late 1990s, consistently expanding through strategic acquisitions and greenfield developments. As a subsidiary of the multinational Engie Group, Engie Brasil benefits from both local expertise and the backing of a global energy leader. Its Brazilian operations are marked by progressive milestones, such as the divestment of coal assets and leadership in the renewable transformation within the country.\n",
      "\n",
      "Engie is widely respected for its leadership in sustainability and corporate responsibility, enjoying a positive reputation among customers, investors, and industry peers. Recently, Engie has received attention for its major investments in wind and solar expansions, as well as for digital initiatives aimed at optimizing energy distribution. The company is often cited as a benchmark for environmental stewardship and innovation in the Brazilian energy market.\n",
      "\n",
      "## Isa\n",
      "\n",
      "ISA CTEEP (Companhia de Transmissão de Energia Elétrica Paulista), under the control of the Colombian group Interconexión Eléctrica S.A. (ISA), is one of Brazil’s key electricity transmission companies. It manages an extensive network of transmission lines and substations, supporting the flow of electricity across several states and contributing significantly to the national grid’s reliability.\n",
      "\n",
      "ISA CTEEP has a history that dates back to the early 2000s, when it was created from the restructuring of São Paulo’s utility sector. The company became part of the ISA group following privatization, and since then, has expanded its network through the acquisition of new assets and investments in advanced technology infrastructure. It is publicly traded on the B3 stock exchange and remains a core asset within ISA’s South American portfolio.\n",
      "\n",
      "The company enjoys a strong reputation for operational excellence and technical innovation in transmission services. Recent news about ISA CTEEP has highlighted its ongoing investments in expanding Brazil's transmission capacity and in green infrastructure. The company is often commended for its commitment to reliability, network modernization, and active role in supporting Brazil's energy transition.\n",
      "\n",
      "## Taesa\n",
      "\n",
      "Taesa, or Transmissora Aliança de Energia Elétrica S.A., is one of Brazil’s largest private electricity transmission companies. Its principal business is the ownership, operation, and maintenance of transmission lines across several Brazilian states. Taesa plays a critical role in the country’s energy sector, ensuring the safe and efficient transport of electricity from generation sites to distribution networks and consumers.\n",
      "\n",
      "The company was created in 2006 through the merger of multiple concessionaires and is characterized by a robust growth trajectory, both organically and through acquisitions. Taesa's ownership structure features the participation of major stakeholders, including the state-owned CEMIG and private investors, reflecting a blend of public and private interests. The company is listed on the São Paulo Stock Exchange, which encourages high standards of governance and investor relations.\n",
      "\n",
      "Taesa is recognized for its operational stability and focus on long-term infrastructure development. Recent developments include new investments in expanding its transmission network, as well as participation in industry auctions for new transmission projects. The company’s reliable performance, prudent management, and commitment to sustainability have reinforced its reputation as a dependable and forward-thinking force in Brazil’s energy sector.\n",
      "\n",
      "==================================\n",
      "\n"
     ]
    }
   ],
   "source": [
    "\n",
    "print(\"\\n========== FINAL OUTPUT ==========\\n\")\n",
    "print(result[\"messages\"][-1].content.strip())\n",
    "print(\"\\n==================================\\n\")\n"
   ]
  },
  {
   "cell_type": "code",
   "execution_count": 52,
   "metadata": {},
   "outputs": [],
   "source": [
    "import json\n",
    "from typing import TypedDict, List # <-- Import this\n",
    "from langchain_core.messages import BaseMessage, HumanMessage\n",
    "from langchain_core.prompts import ChatPromptTemplate\n",
    "from langgraph.graph import StateGraph, END\n",
    "\n",
    "# --- 1. Define the State (The Correct Way) ---\n",
    "# Use TypedDict to define the shape of the state dictionary.\n",
    "class GraphState(TypedDict):\n",
    "    messages: List[BaseMessage]\n",
    "\n",
    "# --- 2. Set up the Language Model (LLM) ---\n",
    "llm = ChatOpenAI(model=\"gpt-4.1-mini\", temperature=0)\n",
    "\n",
    "# --- 3. Define Agent Nodes ---\n",
    "# These functions remain the same, as they correctly expect a dictionary-like state.\n",
    "def financial_analyst_node(state):\n",
    "    \"\"\"Generates financial insights from the initial data.\"\"\"\n",
    "    prompt = \"\"\"\n",
    "    You are a professional financial analyst.\n",
    "    Analyze the following JSON data and generate key insights.\n",
    "    Be concise and clear.\n",
    "\n",
    "    Data:\n",
    "    {data}\n",
    "    \"\"\"\n",
    "    # The 'state' input is a dictionary, so state['messages'] works correctly.\n",
    "    formatted_prompt = prompt.format(data=state['messages'][-1].content)\n",
    "    new_message = HumanMessage(content=formatted_prompt)\n",
    "    response = llm([new_message])\n",
    "    return {\"messages\": [response]}\n",
    "\n",
    "\n",
    "def report_writer_node(state):\n",
    "    \"\"\"Writes a brief report based on the financial insights.\"\"\"\n",
    "    analyst_insights = state['messages'][-1].content\n",
    "    prompt = f\"\"\"\n",
    "    You are a business report writer.\n",
    "    Based on the following financial insights, write a brief, 1-paragraph summary for an executive team.\n",
    "\n",
    "    Insights:\n",
    "    {analyst_insights}\n",
    "    \"\"\"\n",
    "    response = llm([HumanMessage(content=prompt)])\n",
    "    return {\"messages\": [response]}\n",
    "\n",
    "\n",
    "# --- 4. Define the Graph Logic (No changes here) ---\n",
    "builder = StateGraph(GraphState)\n",
    "builder.add_node(\"FinancialAnalyst\", financial_analyst_node)\n",
    "builder.add_node(\"ReportWriter\", report_writer_node)\n",
    "builder.add_conditional_edges(\"FinancialAnalyst\", lambda x: \"ReportWriter\")\n",
    "builder.add_conditional_edges(\"ReportWriter\", lambda x: END)\n",
    "builder.set_entry_point(\"FinancialAnalyst\")\n",
    "\n",
    "# --- 5. Compile the Graph ---\n",
    "supervisor = builder.compile()\n",
    "\n",
    "# --- 6. Prepare Your Payload and Run the Graph ---\n",
    "my_data = {\n",
    "  \"revenue_2023\": 500000, \"expenses_2023\": 350000, \"profit_2023\": 150000,\n",
    "  \"revenue_2024\": 750000, \"expenses_2024\": 450000, \"profit_2024\": 300000,\n",
    "  \"notes\": \"Significant revenue growth in 2024 due to new market entry.\"\n",
    "}\n",
    "json_data2 = json.dumps(my_data, indent=4)\n",
    "\n",
    "payload = {\n",
    "    \"messages\": [\n",
    "        HumanMessage(content=f\"Generate financial insights from the data below.\\n\\n```json\\n{json_data2}\\n```\")\n",
    "    ]\n",
    "}\n",
    "\n",
    "# This will now run without the TypeError.\n",
    "result = supervisor.invoke(payload)\n",
    "\n"
   ]
  },
  {
   "cell_type": "code",
   "execution_count": 53,
   "metadata": {},
   "outputs": [
    {
     "name": "stdout",
     "output_type": "stream",
     "text": [
      "In 2024, the company achieved robust financial growth, with revenue increasing by 50% to $750,000, primarily driven by successful new market entry. Despite a 28.6% rise in expenses to $450,000, cost management remained effective relative to revenue growth. This resulted in profit doubling to $300,000 and an improved profit margin of 40%, up from 30% in 2023, underscoring enhanced operational efficiency and stronger profitability. Overall, the company demonstrated effective scaling and solid financial performance throughout the year.\n"
     ]
    }
   ],
   "source": [
    "import textwrap\n",
    "\n",
    "# Assuming `result` already contains your output\n",
    "insights_text = result['messages'][-1].content.strip()\n",
    "\n",
    "# Wrap lines to a max width\n",
    "wrapped_text = textwrap.fill(insights_text, width=80)\n",
    "\n",
    "# Print with separators\n",
    "print(\"\\n\" + \"=\"*80)\n",
    "print(\"📊 FINANCIAL INSIGHTS REPORT\")\n",
    "print(\"-\"*80)\n",
    "print(wrapped_text)\n",
    "print(\"=\"*80 + \"\\n\")"
   ]
  },
  {
   "cell_type": "code",
   "execution_count": null,
   "metadata": {},
   "outputs": [],
   "source": []
  },
  {
   "cell_type": "code",
   "execution_count": null,
   "metadata": {},
   "outputs": [],
   "source": []
  }
 ],
 "metadata": {
  "kernelspec": {
   "display_name": "Python 3",
   "language": "python",
   "name": "python3"
  },
  "language_info": {
   "codemirror_mode": {
    "name": "ipython",
    "version": 3
   },
   "file_extension": ".py",
   "mimetype": "text/x-python",
   "name": "python",
   "nbconvert_exporter": "python",
   "pygments_lexer": "ipython3",
   "version": "3.12.10"
  }
 },
 "nbformat": 4,
 "nbformat_minor": 2
}
